{
 "cells": [
  {
   "cell_type": "markdown",
   "id": "011e1755",
   "metadata": {},
   "source": [
    "## TEST NOTEBOOK: \n",
    "#### Here there are some example where all strategies (Replay, EWC and Naive) are tested with two different CL scenario: \n",
    "- nc: new classe: task incremental\n",
    "- ni: new instance: domain incremental"
   ]
  },
  {
   "cell_type": "markdown",
   "id": "b46eff6b",
   "metadata": {},
   "source": [
    "### IMPORT LIBRARIES"
   ]
  },
  {
   "cell_type": "code",
   "execution_count": null,
   "id": "b634dd3f",
   "metadata": {},
   "outputs": [],
   "source": [
    "import sys\n",
    "sys.path.append('..')\n",
    "from test_replay_nc import test_Replay_CNN_nc\n",
    "from test_ewc_nc import test_EWC_CNN_nc\n",
    "from test_naive_nc import test_Naive_CNN_nc\n",
    "from test_replay_ni import test_Replay_CNN_ni\n",
    "from test_ewc_ni import test_EWC_CNN_ni\n",
    "from test_naive_ni import test_Naive_CNN_ni\n",
    "from showResult import plotResults\n",
    "n_exp = 10"
   ]
  },
  {
   "cell_type": "markdown",
   "id": "114848a5",
   "metadata": {},
   "source": [
    "# TASK INCREMENTAL CL\n",
    "\n",
    "### At first I comapre three strategies in task incremental scenario. For all of them I use sam characteristics:\n",
    "- experience: 10\n",
    "- train_mb: 15\n",
    "- test_mb: 15\n",
    "- epochs: 25\n",
    "\n",
    "### I choose these values after more and more tests with different parameters. With these par it seems to obtain bst oerformances"
   ]
  },
  {
   "cell_type": "markdown",
   "id": "d11bf0f6",
   "metadata": {},
   "source": [
    "# Replay strategy - Task incremental"
   ]
  },
  {
   "cell_type": "code",
   "execution_count": null,
   "id": "7323fea6",
   "metadata": {},
   "outputs": [],
   "source": [
    "results_replay_nc = test_Replay_CNN_nc()"
   ]
  },
  {
   "cell_type": "markdown",
   "id": "b2b6b12c",
   "metadata": {},
   "source": [
    "## Plot results:"
   ]
  },
  {
   "cell_type": "code",
   "execution_count": null,
   "id": "41632cdb",
   "metadata": {},
   "outputs": [],
   "source": [
    "values_replay_nc = plotResults(results_replay_nc,n_exp, True)"
   ]
  },
  {
   "cell_type": "markdown",
   "id": "1749655e",
   "metadata": {},
   "source": [
    "# EWC strategy - Task incremental"
   ]
  },
  {
   "cell_type": "code",
   "execution_count": null,
   "id": "f410625a",
   "metadata": {},
   "outputs": [],
   "source": [
    "results_ewc_nc = test_EWC_CNN_nc()"
   ]
  },
  {
   "cell_type": "markdown",
   "id": "22914cd8",
   "metadata": {},
   "source": [
    "## Plot results:"
   ]
  },
  {
   "cell_type": "code",
   "execution_count": null,
   "id": "6a16ec37",
   "metadata": {},
   "outputs": [],
   "source": [
    "values_ewc_nc = plotResults(results_ewc_nc,n_exp, True)"
   ]
  },
  {
   "cell_type": "markdown",
   "id": "51a2c571",
   "metadata": {},
   "source": [
    "# Naive strategy - Task incremental"
   ]
  },
  {
   "cell_type": "code",
   "execution_count": null,
   "id": "e5e6766d",
   "metadata": {},
   "outputs": [],
   "source": [
    "results_naive_nc = test_Naive_CNN_nc()"
   ]
  },
  {
   "cell_type": "markdown",
   "id": "83e420e4",
   "metadata": {},
   "source": [
    "## Plot results:"
   ]
  },
  {
   "cell_type": "code",
   "execution_count": null,
   "id": "7bd5a481",
   "metadata": {},
   "outputs": [],
   "source": [
    "values_naive_nc = plotResults(results_naive_nc,n_exp, True)"
   ]
  },
  {
   "cell_type": "code",
   "execution_count": null,
   "id": "4dd675ad",
   "metadata": {},
   "outputs": [],
   "source": []
  },
  {
   "cell_type": "code",
   "execution_count": null,
   "id": "c748ad84",
   "metadata": {},
   "outputs": [],
   "source": []
  },
  {
   "cell_type": "code",
   "execution_count": null,
   "id": "8cdc3577",
   "metadata": {},
   "outputs": [],
   "source": []
  },
  {
   "cell_type": "code",
   "execution_count": null,
   "id": "da77eef6",
   "metadata": {},
   "outputs": [],
   "source": []
  },
  {
   "cell_type": "markdown",
   "id": "b273c468",
   "metadata": {},
   "source": [
    "# DOMAIN INCREMENTAL CL\n",
    "\n",
    "### Then I comapre three strategies in domain incremental scenario. For all of them I use sam characteristics:\n",
    "- experience: 10\n",
    "- train_mb: 15\n",
    "- test_mb: 15\n",
    "- epochs: 25\n",
    "\n",
    "### I choose these values after more and more tests with different parameters. With these par it seems to obtain bst oerformances"
   ]
  },
  {
   "cell_type": "markdown",
   "id": "707abe74",
   "metadata": {},
   "source": [
    "# Replay strategy - Domain incremental"
   ]
  },
  {
   "cell_type": "code",
   "execution_count": null,
   "id": "5d80c1d6",
   "metadata": {},
   "outputs": [],
   "source": [
    "results_replay_ni = test_Replay_CNN_ni()"
   ]
  },
  {
   "cell_type": "markdown",
   "id": "aa1470c5",
   "metadata": {},
   "source": [
    "## Plot results:"
   ]
  },
  {
   "cell_type": "code",
   "execution_count": null,
   "id": "291497c7",
   "metadata": {},
   "outputs": [],
   "source": [
    "values_replay_ni = plotResults(results_replay_ni,n_exp, False)"
   ]
  },
  {
   "cell_type": "markdown",
   "id": "9c4ff263",
   "metadata": {},
   "source": [
    "# EWC strategy - Domain incremental"
   ]
  },
  {
   "cell_type": "code",
   "execution_count": null,
   "id": "0d5cdb83",
   "metadata": {},
   "outputs": [],
   "source": [
    "results_ewc_ni = test_EWC_CNN_ni()"
   ]
  },
  {
   "cell_type": "markdown",
   "id": "686d0a2d",
   "metadata": {},
   "source": [
    "## Plot results:"
   ]
  },
  {
   "cell_type": "code",
   "execution_count": null,
   "id": "bb28b25f",
   "metadata": {},
   "outputs": [],
   "source": [
    "values_ewc_ni = plotResults(results_ewc_ni,n_exp, False)"
   ]
  },
  {
   "cell_type": "markdown",
   "id": "8521be94",
   "metadata": {},
   "source": [
    "# Naive strategy - Domain incremental"
   ]
  },
  {
   "cell_type": "code",
   "execution_count": null,
   "id": "1d22d250",
   "metadata": {},
   "outputs": [],
   "source": [
    "results_Naive_ni = test_Naive_CNN_ni()"
   ]
  },
  {
   "cell_type": "markdown",
   "id": "17574249",
   "metadata": {},
   "source": [
    "## Plot results:"
   ]
  },
  {
   "cell_type": "code",
   "execution_count": null,
   "id": "c9c46e64",
   "metadata": {},
   "outputs": [],
   "source": [
    "values_naive_ni = plotResults(results_naive_ni,n_exp, False)"
   ]
  }
 ],
 "metadata": {
  "kernelspec": {
   "display_name": "Python 3 (ipykernel)",
   "language": "python",
   "name": "python3"
  },
  "language_info": {
   "codemirror_mode": {
    "name": "ipython",
    "version": 3
   },
   "file_extension": ".py",
   "mimetype": "text/x-python",
   "name": "python",
   "nbconvert_exporter": "python",
   "pygments_lexer": "ipython3",
   "version": "3.8.11"
  }
 },
 "nbformat": 4,
 "nbformat_minor": 5
}
